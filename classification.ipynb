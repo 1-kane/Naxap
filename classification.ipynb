{
 "cells": [
  {
   "cell_type": "code",
   "execution_count": 1,
   "metadata": {},
   "outputs": [
    {
     "name": "stderr",
     "output_type": "stream",
     "text": [
      "Using TensorFlow backend.\n"
     ]
    },
    {
     "name": "stdout",
     "output_type": "stream",
     "text": [
      "Found 374 images belonging to 2 classes.\n",
      "Found 100 images belonging to 2 classes.\n",
      "Epoch 1/20\n",
      " 2/21 [=>............................] - ETA: 21s - loss: 1.2787 - accuracy: 0.5312"
     ]
    },
    {
     "name": "stderr",
     "output_type": "stream",
     "text": [
      "/opt/conda/lib/python3.6/site-packages/PIL/TiffImagePlugin.py:780: UserWarning: Corrupt EXIF data.  Expecting to read 4 bytes but only got 0. \n",
      "  warnings.warn(str(msg))\n"
     ]
    },
    {
     "name": "stdout",
     "output_type": "stream",
     "text": [
      "21/21 [==============================] - 15s 695ms/step - loss: 0.7703 - accuracy: 0.5859 - val_loss: 0.6082 - val_accuracy: 0.5158\n",
      "Epoch 2/20\n",
      "21/21 [==============================] - 14s 657ms/step - loss: 0.5904 - accuracy: 0.7321 - val_loss: 1.0050 - val_accuracy: 0.5432\n",
      "Epoch 3/20\n",
      "21/21 [==============================] - 13s 622ms/step - loss: 0.5498 - accuracy: 0.7669 - val_loss: 0.3738 - val_accuracy: 0.9383\n",
      "Epoch 4/20\n",
      "21/21 [==============================] - 12s 582ms/step - loss: 0.4025 - accuracy: 0.8323 - val_loss: 0.3074 - val_accuracy: 0.8642\n",
      "Epoch 5/20\n",
      "21/21 [==============================] - 13s 629ms/step - loss: 0.3478 - accuracy: 0.8690 - val_loss: 0.1585 - val_accuracy: 0.9506\n",
      "Epoch 6/20\n",
      "21/21 [==============================] - 12s 593ms/step - loss: 0.2813 - accuracy: 0.8896 - val_loss: 0.0409 - val_accuracy: 0.9259\n",
      "Epoch 7/20\n",
      "21/21 [==============================] - 13s 618ms/step - loss: 0.3196 - accuracy: 0.8742 - val_loss: 0.1623 - val_accuracy: 0.9474\n",
      "Epoch 8/20\n",
      "21/21 [==============================] - 13s 622ms/step - loss: 0.2296 - accuracy: 0.8988 - val_loss: 0.4481 - val_accuracy: 0.9383\n",
      "Epoch 9/20\n",
      "21/21 [==============================] - 12s 593ms/step - loss: 0.2422 - accuracy: 0.8896 - val_loss: 0.7108 - val_accuracy: 0.8765\n",
      "Epoch 10/20\n",
      "21/21 [==============================] - 13s 634ms/step - loss: 0.2819 - accuracy: 0.9018 - val_loss: 0.0267 - val_accuracy: 0.9506\n",
      "Epoch 11/20\n",
      "21/21 [==============================] - 12s 590ms/step - loss: 0.2092 - accuracy: 0.9177 - val_loss: 0.1031 - val_accuracy: 0.9630\n",
      "Epoch 12/20\n",
      "21/21 [==============================] - 12s 594ms/step - loss: 0.3489 - accuracy: 0.9018 - val_loss: 0.2504 - val_accuracy: 0.9383\n",
      "Epoch 13/20\n",
      "21/21 [==============================] - 13s 632ms/step - loss: 0.1438 - accuracy: 0.9524 - val_loss: 0.5334 - val_accuracy: 0.8947\n",
      "Epoch 14/20\n",
      "21/21 [==============================] - 13s 631ms/step - loss: 0.1515 - accuracy: 0.9294 - val_loss: 0.3404 - val_accuracy: 0.9136\n",
      "Epoch 15/20\n",
      "21/21 [==============================] - 12s 581ms/step - loss: 0.1484 - accuracy: 0.9417 - val_loss: 0.1380 - val_accuracy: 0.9383\n",
      "Epoch 16/20\n",
      "21/21 [==============================] - 12s 589ms/step - loss: 0.1308 - accuracy: 0.9448 - val_loss: 0.1037 - val_accuracy: 0.9383\n",
      "Epoch 17/20\n",
      "21/21 [==============================] - 13s 596ms/step - loss: 0.2326 - accuracy: 0.9387 - val_loss: 0.1246 - val_accuracy: 0.9259\n",
      "Epoch 18/20\n",
      "21/21 [==============================] - 12s 595ms/step - loss: 0.1069 - accuracy: 0.9540 - val_loss: 0.0670 - val_accuracy: 0.9383\n",
      "Epoch 19/20\n",
      "21/21 [==============================] - 13s 609ms/step - loss: 0.1175 - accuracy: 0.9601 - val_loss: 0.0702 - val_accuracy: 0.9368\n",
      "Epoch 20/20\n",
      "21/21 [==============================] - 13s 640ms/step - loss: 0.1040 - accuracy: 0.9632 - val_loss: 0.2624 - val_accuracy: 0.9630\n"
     ]
    }
   ],
   "source": [
    "# importing libraries \n",
    "from keras.preprocessing.image import ImageDataGenerator \n",
    "from keras.models import Sequential \n",
    "from keras.layers import Conv2D, MaxPooling2D \n",
    "from keras.layers import Activation, Dropout, Flatten, Dense \n",
    "from keras import backend as K \n",
    "  \n",
    "  \n",
    "img_width, img_height = 224, 224\n",
    "  \n",
    "train_data_dir = '/kaggle/input/human-or-thing-classifier/human and things classifier/train'\n",
    "validation_data_dir = '/kaggle/input/human-or-thing-classifier/human and things classifier/validate'\n",
    "nb_train_samples = 400 \n",
    "nb_validation_samples = 100\n",
    "epochs = 20\n",
    "batch_size = 19\n",
    "  \n",
    "if K.image_data_format() == 'channels_first': \n",
    "    input_shape = (3, img_width, img_height) \n",
    "else: \n",
    "    input_shape = (img_width, img_height, 3) \n",
    "  \n",
    "model = Sequential() \n",
    "model.add(Conv2D(32, (2, 2), input_shape = input_shape)) \n",
    "model.add(Activation('relu')) \n",
    "model.add(MaxPooling2D(pool_size =(2, 2))) \n",
    "  \n",
    "model.add(Conv2D(32, (2, 2))) \n",
    "model.add(Activation('relu')) \n",
    "model.add(MaxPooling2D(pool_size =(2, 2))) \n",
    "  \n",
    "model.add(Conv2D(64, (2, 2))) \n",
    "model.add(Activation('relu')) \n",
    "model.add(MaxPooling2D(pool_size =(2, 2))) \n",
    "  \n",
    "model.add(Flatten()) \n",
    "model.add(Dense(64)) \n",
    "model.add(Activation('relu')) \n",
    "model.add(Dropout(0.5)) \n",
    "model.add(Dense(1)) \n",
    "model.add(Activation('sigmoid')) \n",
    "  \n",
    "model.compile(loss ='binary_crossentropy', \n",
    "                     optimizer ='rmsprop', \n",
    "                   metrics =['accuracy']) \n",
    "  \n",
    "train_datagen = ImageDataGenerator( \n",
    "                rescale = 1. / 255, \n",
    "                 shear_range = 0.2, \n",
    "                  zoom_range = 0.2, \n",
    "            horizontal_flip = True) \n",
    "  \n",
    "test_datagen = ImageDataGenerator(rescale = 1. / 255) \n",
    "  \n",
    "train_generator = train_datagen.flow_from_directory(train_data_dir,target_size =(img_width, img_height), batch_size = 16, class_mode ='binary') \n",
    "  \n",
    "validation_generator = test_datagen.flow_from_directory(validation_data_dir,target_size =(img_width, img_height), batch_size = batch_size, class_mode ='binary') \n",
    "  \n",
    "model.fit_generator(train_generator, \n",
    "    steps_per_epoch = nb_train_samples // batch_size, \n",
    "    epochs = epochs, validation_data = validation_generator, \n",
    "    validation_steps = nb_validation_samples // batch_size) \n",
    "  \n",
    "model.save_weights('model_saved.h5') "
   ]
  },
  {
   "cell_type": "code",
   "execution_count": null,
   "metadata": {},
   "outputs": [],
   "source": []
  }
 ],
 "metadata": {
  "kernelspec": {
   "display_name": "Python 3",
   "language": "python",
   "name": "python3"
  },
  "language_info": {
   "codemirror_mode": {
    "name": "ipython",
    "version": 3
   },
   "file_extension": ".py",
   "mimetype": "text/x-python",
   "name": "python",
   "nbconvert_exporter": "python",
   "pygments_lexer": "ipython3",
   "version": "3.6.6"
  }
 },
 "nbformat": 4,
 "nbformat_minor": 1
}
